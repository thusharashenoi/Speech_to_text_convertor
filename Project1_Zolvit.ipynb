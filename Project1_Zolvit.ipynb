{
 "cells": [
  {
   "cell_type": "markdown",
   "id": "0cb2c4ff",
   "metadata": {},
   "source": [
    "# Installing Libraries"
   ]
  },
  {
   "cell_type": "code",
   "execution_count": 25,
   "id": "dcdc2280",
   "metadata": {},
   "outputs": [
    {
     "name": "stdout",
     "output_type": "stream",
     "text": [
      "Say something\n",
      "Done recording\n",
      "Recognizing the text\n",
      "ich komme aus Indien\n"
     ]
    }
   ],
   "source": [
    "import speech_recognition as sr\n",
    "recognizer = sr.Recognizer()\n",
    "with sr.Microphone() as source:\n",
    "    recognizer.adjust_for_ambient_noise(source)\n",
    "    print(\"Say something\")\n",
    "    recorded_audio = recognizer.listen(source)\n",
    "    print(\"Done recording\")\n",
    "    try:\n",
    "        print(\"Recognizing the text\")\n",
    "        text = recognizer.recognize_google(\n",
    "            recorded_audio, \n",
    "            language=\"de\"\n",
    "        )\n",
    "    except Exception as ex:\n",
    "        print(ex)\n",
    "    print(\"{}\".format(text)) "
   ]
  },
  {
   "cell_type": "code",
   "execution_count": null,
   "id": "b12fca22",
   "metadata": {},
   "outputs": [],
   "source": [
    "#hi-hindi\n",
    "#gu-gujarati\n",
    "#te-telugu\n",
    "#ta-tamil\n",
    "#de- german\n",
    "#es-spanish\n",
    "#fr-french\n",
    "#kn-kannada\n",
    "#en-english"
   ]
  },
  {
   "cell_type": "code",
   "execution_count": null,
   "id": "10e99d0b",
   "metadata": {},
   "outputs": [],
   "source": [
    "from transformers import pipeline\n",
    "ger_translator=pipeline(\"translations_en_de\")\n",
    "result=ger_translator(\"hello\")\n",
    "print(result[0][translation_text])"
   ]
  },
  {
   "cell_type": "code",
   "execution_count": null,
   "id": "0a03324f",
   "metadata": {},
   "outputs": [],
   "source": []
  }
 ],
 "metadata": {
  "kernelspec": {
   "display_name": "Python 3 (ipykernel)",
   "language": "python",
   "name": "python3"
  },
  "language_info": {
   "codemirror_mode": {
    "name": "ipython",
    "version": 3
   },
   "file_extension": ".py",
   "mimetype": "text/x-python",
   "name": "python",
   "nbconvert_exporter": "python",
   "pygments_lexer": "ipython3",
   "version": "3.9.12"
  }
 },
 "nbformat": 4,
 "nbformat_minor": 5
}
